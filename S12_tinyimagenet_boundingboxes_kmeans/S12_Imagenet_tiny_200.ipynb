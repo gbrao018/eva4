{
  "nbformat": 4,
  "nbformat_minor": 0,
  "metadata": {
    "colab": {
      "name": "S12_Imagenet-Tiny_1.ipynb",
      "provenance": [],
      "collapsed_sections": []
    },
    "kernelspec": {
      "name": "python3",
      "display_name": "Python 3"
    },
    "accelerator": "GPU",
    "widgets": {
      "application/vnd.jupyter.widget-state+json": {
        "76b4eee13b554020a22c3a48df8ffb71": {
          "model_module": "@jupyter-widgets/controls",
          "model_name": "HBoxModel",
          "state": {
            "_view_name": "HBoxView",
            "_dom_classes": [],
            "_model_name": "HBoxModel",
            "_view_module": "@jupyter-widgets/controls",
            "_model_module_version": "1.5.0",
            "_view_count": null,
            "_view_module_version": "1.5.0",
            "box_style": "",
            "layout": "IPY_MODEL_7f89ea4c39e7439995eed317c5152376",
            "_model_module": "@jupyter-widgets/controls",
            "children": [
              "IPY_MODEL_297dc3383e4b414f9ffb0241633758c2",
              "IPY_MODEL_707a8e4b3fc040ec9ea0569df54d5908"
            ]
          }
        },
        "7f89ea4c39e7439995eed317c5152376": {
          "model_module": "@jupyter-widgets/base",
          "model_name": "LayoutModel",
          "state": {
            "_view_name": "LayoutView",
            "grid_template_rows": null,
            "right": null,
            "justify_content": null,
            "_view_module": "@jupyter-widgets/base",
            "overflow": null,
            "_model_module_version": "1.2.0",
            "_view_count": null,
            "flex_flow": null,
            "width": null,
            "min_width": null,
            "border": null,
            "align_items": null,
            "bottom": null,
            "_model_module": "@jupyter-widgets/base",
            "top": null,
            "grid_column": null,
            "overflow_y": null,
            "overflow_x": null,
            "grid_auto_flow": null,
            "grid_area": null,
            "grid_template_columns": null,
            "flex": null,
            "_model_name": "LayoutModel",
            "justify_items": null,
            "grid_row": null,
            "max_height": null,
            "align_content": null,
            "visibility": null,
            "align_self": null,
            "height": null,
            "min_height": null,
            "padding": null,
            "grid_auto_rows": null,
            "grid_gap": null,
            "max_width": null,
            "order": null,
            "_view_module_version": "1.2.0",
            "grid_template_areas": null,
            "object_position": null,
            "object_fit": null,
            "grid_auto_columns": null,
            "margin": null,
            "display": null,
            "left": null
          }
        },
        "297dc3383e4b414f9ffb0241633758c2": {
          "model_module": "@jupyter-widgets/controls",
          "model_name": "IntProgressModel",
          "state": {
            "_view_name": "ProgressView",
            "style": "IPY_MODEL_bad874bd5f8449e8a8cfda482076d01c",
            "_dom_classes": [],
            "description": " 96%",
            "_model_name": "IntProgressModel",
            "bar_style": "danger",
            "max": 2000,
            "_view_module": "@jupyter-widgets/controls",
            "_model_module_version": "1.5.0",
            "value": 1930,
            "_view_count": null,
            "_view_module_version": "1.5.0",
            "orientation": "horizontal",
            "min": 0,
            "description_tooltip": null,
            "_model_module": "@jupyter-widgets/controls",
            "layout": "IPY_MODEL_3bc06221c36a43bdaf1bcab5d1b422c1"
          }
        },
        "707a8e4b3fc040ec9ea0569df54d5908": {
          "model_module": "@jupyter-widgets/controls",
          "model_name": "HTMLModel",
          "state": {
            "_view_name": "HTMLView",
            "style": "IPY_MODEL_644a046f0ec8452793f33d69baec0e56",
            "_dom_classes": [],
            "description": "",
            "_model_name": "HTMLModel",
            "placeholder": "​",
            "_view_module": "@jupyter-widgets/controls",
            "_model_module_version": "1.5.0",
            "value": " 1930/2000 [18:45&lt;00:40,  1.71it/s]",
            "_view_count": null,
            "_view_module_version": "1.5.0",
            "description_tooltip": null,
            "_model_module": "@jupyter-widgets/controls",
            "layout": "IPY_MODEL_8b8d8c58cb274eb69c57929eb3dbd3c2"
          }
        },
        "bad874bd5f8449e8a8cfda482076d01c": {
          "model_module": "@jupyter-widgets/controls",
          "model_name": "ProgressStyleModel",
          "state": {
            "_view_name": "StyleView",
            "_model_name": "ProgressStyleModel",
            "description_width": "initial",
            "_view_module": "@jupyter-widgets/base",
            "_model_module_version": "1.5.0",
            "_view_count": null,
            "_view_module_version": "1.2.0",
            "bar_color": null,
            "_model_module": "@jupyter-widgets/controls"
          }
        },
        "3bc06221c36a43bdaf1bcab5d1b422c1": {
          "model_module": "@jupyter-widgets/base",
          "model_name": "LayoutModel",
          "state": {
            "_view_name": "LayoutView",
            "grid_template_rows": null,
            "right": null,
            "justify_content": null,
            "_view_module": "@jupyter-widgets/base",
            "overflow": null,
            "_model_module_version": "1.2.0",
            "_view_count": null,
            "flex_flow": null,
            "width": null,
            "min_width": null,
            "border": null,
            "align_items": null,
            "bottom": null,
            "_model_module": "@jupyter-widgets/base",
            "top": null,
            "grid_column": null,
            "overflow_y": null,
            "overflow_x": null,
            "grid_auto_flow": null,
            "grid_area": null,
            "grid_template_columns": null,
            "flex": null,
            "_model_name": "LayoutModel",
            "justify_items": null,
            "grid_row": null,
            "max_height": null,
            "align_content": null,
            "visibility": null,
            "align_self": null,
            "height": null,
            "min_height": null,
            "padding": null,
            "grid_auto_rows": null,
            "grid_gap": null,
            "max_width": null,
            "order": null,
            "_view_module_version": "1.2.0",
            "grid_template_areas": null,
            "object_position": null,
            "object_fit": null,
            "grid_auto_columns": null,
            "margin": null,
            "display": null,
            "left": null
          }
        },
        "644a046f0ec8452793f33d69baec0e56": {
          "model_module": "@jupyter-widgets/controls",
          "model_name": "DescriptionStyleModel",
          "state": {
            "_view_name": "StyleView",
            "_model_name": "DescriptionStyleModel",
            "description_width": "",
            "_view_module": "@jupyter-widgets/base",
            "_model_module_version": "1.5.0",
            "_view_count": null,
            "_view_module_version": "1.2.0",
            "_model_module": "@jupyter-widgets/controls"
          }
        },
        "8b8d8c58cb274eb69c57929eb3dbd3c2": {
          "model_module": "@jupyter-widgets/base",
          "model_name": "LayoutModel",
          "state": {
            "_view_name": "LayoutView",
            "grid_template_rows": null,
            "right": null,
            "justify_content": null,
            "_view_module": "@jupyter-widgets/base",
            "overflow": null,
            "_model_module_version": "1.2.0",
            "_view_count": null,
            "flex_flow": null,
            "width": null,
            "min_width": null,
            "border": null,
            "align_items": null,
            "bottom": null,
            "_model_module": "@jupyter-widgets/base",
            "top": null,
            "grid_column": null,
            "overflow_y": null,
            "overflow_x": null,
            "grid_auto_flow": null,
            "grid_area": null,
            "grid_template_columns": null,
            "flex": null,
            "_model_name": "LayoutModel",
            "justify_items": null,
            "grid_row": null,
            "max_height": null,
            "align_content": null,
            "visibility": null,
            "align_self": null,
            "height": null,
            "min_height": null,
            "padding": null,
            "grid_auto_rows": null,
            "grid_gap": null,
            "max_width": null,
            "order": null,
            "_view_module_version": "1.2.0",
            "grid_template_areas": null,
            "object_position": null,
            "object_fit": null,
            "grid_auto_columns": null,
            "margin": null,
            "display": null,
            "left": null
          }
        },
        "df7afd5a82b74b94a1199e626656a426": {
          "model_module": "@jupyter-widgets/controls",
          "model_name": "HBoxModel",
          "state": {
            "_view_name": "HBoxView",
            "_dom_classes": [],
            "_model_name": "HBoxModel",
            "_view_module": "@jupyter-widgets/controls",
            "_model_module_version": "1.5.0",
            "_view_count": null,
            "_view_module_version": "1.5.0",
            "box_style": "",
            "layout": "IPY_MODEL_17d1491486674c018d382acc543bd623",
            "_model_module": "@jupyter-widgets/controls",
            "children": [
              "IPY_MODEL_48e90fc687f34a98ba5bf531e8126ea0",
              "IPY_MODEL_7e6cd5421d4b42aaab1c21531c23eabc"
            ]
          }
        },
        "17d1491486674c018d382acc543bd623": {
          "model_module": "@jupyter-widgets/base",
          "model_name": "LayoutModel",
          "state": {
            "_view_name": "LayoutView",
            "grid_template_rows": null,
            "right": null,
            "justify_content": null,
            "_view_module": "@jupyter-widgets/base",
            "overflow": null,
            "_model_module_version": "1.2.0",
            "_view_count": null,
            "flex_flow": null,
            "width": null,
            "min_width": null,
            "border": null,
            "align_items": null,
            "bottom": null,
            "_model_module": "@jupyter-widgets/base",
            "top": null,
            "grid_column": null,
            "overflow_y": null,
            "overflow_x": null,
            "grid_auto_flow": null,
            "grid_area": null,
            "grid_template_columns": null,
            "flex": null,
            "_model_name": "LayoutModel",
            "justify_items": null,
            "grid_row": null,
            "max_height": null,
            "align_content": null,
            "visibility": null,
            "align_self": null,
            "height": null,
            "min_height": null,
            "padding": null,
            "grid_auto_rows": null,
            "grid_gap": null,
            "max_width": null,
            "order": null,
            "_view_module_version": "1.2.0",
            "grid_template_areas": null,
            "object_position": null,
            "object_fit": null,
            "grid_auto_columns": null,
            "margin": null,
            "display": null,
            "left": null
          }
        },
        "48e90fc687f34a98ba5bf531e8126ea0": {
          "model_module": "@jupyter-widgets/controls",
          "model_name": "IntProgressModel",
          "state": {
            "_view_name": "ProgressView",
            "style": "IPY_MODEL_fda9233de04c4dc48d77e8b5f32790e9",
            "_dom_classes": [],
            "description": "100%",
            "_model_name": "IntProgressModel",
            "bar_style": "success",
            "max": 150,
            "_view_module": "@jupyter-widgets/controls",
            "_model_module_version": "1.5.0",
            "value": 150,
            "_view_count": null,
            "_view_module_version": "1.5.0",
            "orientation": "horizontal",
            "min": 0,
            "description_tooltip": null,
            "_model_module": "@jupyter-widgets/controls",
            "layout": "IPY_MODEL_7f5d9be25f864ad7ba77003e95fa3572"
          }
        },
        "7e6cd5421d4b42aaab1c21531c23eabc": {
          "model_module": "@jupyter-widgets/controls",
          "model_name": "HTMLModel",
          "state": {
            "_view_name": "HTMLView",
            "style": "IPY_MODEL_6a07318473ad457380653280ff0d6838",
            "_dom_classes": [],
            "description": "",
            "_model_name": "HTMLModel",
            "placeholder": "​",
            "_view_module": "@jupyter-widgets/controls",
            "_model_module_version": "1.5.0",
            "value": " 150/150 [00:43&lt;00:00,  3.47it/s]",
            "_view_count": null,
            "_view_module_version": "1.5.0",
            "description_tooltip": null,
            "_model_module": "@jupyter-widgets/controls",
            "layout": "IPY_MODEL_6c2d75dc93274ea9b0c6e7b9778c1daf"
          }
        },
        "fda9233de04c4dc48d77e8b5f32790e9": {
          "model_module": "@jupyter-widgets/controls",
          "model_name": "ProgressStyleModel",
          "state": {
            "_view_name": "StyleView",
            "_model_name": "ProgressStyleModel",
            "description_width": "initial",
            "_view_module": "@jupyter-widgets/base",
            "_model_module_version": "1.5.0",
            "_view_count": null,
            "_view_module_version": "1.2.0",
            "bar_color": null,
            "_model_module": "@jupyter-widgets/controls"
          }
        },
        "7f5d9be25f864ad7ba77003e95fa3572": {
          "model_module": "@jupyter-widgets/base",
          "model_name": "LayoutModel",
          "state": {
            "_view_name": "LayoutView",
            "grid_template_rows": null,
            "right": null,
            "justify_content": null,
            "_view_module": "@jupyter-widgets/base",
            "overflow": null,
            "_model_module_version": "1.2.0",
            "_view_count": null,
            "flex_flow": null,
            "width": null,
            "min_width": null,
            "border": null,
            "align_items": null,
            "bottom": null,
            "_model_module": "@jupyter-widgets/base",
            "top": null,
            "grid_column": null,
            "overflow_y": null,
            "overflow_x": null,
            "grid_auto_flow": null,
            "grid_area": null,
            "grid_template_columns": null,
            "flex": null,
            "_model_name": "LayoutModel",
            "justify_items": null,
            "grid_row": null,
            "max_height": null,
            "align_content": null,
            "visibility": null,
            "align_self": null,
            "height": null,
            "min_height": null,
            "padding": null,
            "grid_auto_rows": null,
            "grid_gap": null,
            "max_width": null,
            "order": null,
            "_view_module_version": "1.2.0",
            "grid_template_areas": null,
            "object_position": null,
            "object_fit": null,
            "grid_auto_columns": null,
            "margin": null,
            "display": null,
            "left": null
          }
        },
        "6a07318473ad457380653280ff0d6838": {
          "model_module": "@jupyter-widgets/controls",
          "model_name": "DescriptionStyleModel",
          "state": {
            "_view_name": "StyleView",
            "_model_name": "DescriptionStyleModel",
            "description_width": "",
            "_view_module": "@jupyter-widgets/base",
            "_model_module_version": "1.5.0",
            "_view_count": null,
            "_view_module_version": "1.2.0",
            "_model_module": "@jupyter-widgets/controls"
          }
        },
        "6c2d75dc93274ea9b0c6e7b9778c1daf": {
          "model_module": "@jupyter-widgets/base",
          "model_name": "LayoutModel",
          "state": {
            "_view_name": "LayoutView",
            "grid_template_rows": null,
            "right": null,
            "justify_content": null,
            "_view_module": "@jupyter-widgets/base",
            "overflow": null,
            "_model_module_version": "1.2.0",
            "_view_count": null,
            "flex_flow": null,
            "width": null,
            "min_width": null,
            "border": null,
            "align_items": null,
            "bottom": null,
            "_model_module": "@jupyter-widgets/base",
            "top": null,
            "grid_column": null,
            "overflow_y": null,
            "overflow_x": null,
            "grid_auto_flow": null,
            "grid_area": null,
            "grid_template_columns": null,
            "flex": null,
            "_model_name": "LayoutModel",
            "justify_items": null,
            "grid_row": null,
            "max_height": null,
            "align_content": null,
            "visibility": null,
            "align_self": null,
            "height": null,
            "min_height": null,
            "padding": null,
            "grid_auto_rows": null,
            "grid_gap": null,
            "max_width": null,
            "order": null,
            "_view_module_version": "1.2.0",
            "grid_template_areas": null,
            "object_position": null,
            "object_fit": null,
            "grid_auto_columns": null,
            "margin": null,
            "display": null,
            "left": null
          }
        }
      }
    }
  },
  "cells": [
    {
      "cell_type": "code",
      "metadata": {
        "id": "hXzGWJivmz60",
        "colab_type": "code",
        "outputId": "690f37db-058e-4341-aa9f-f77ed7f2ccb7",
        "colab": {
          "base_uri": "https://localhost:8080/",
          "height": 35
        }
      },
      "source": [
        "from google.colab import drive\n",
        "drive.mount('/content/gdrive')\n"
      ],
      "execution_count": 1,
      "outputs": [
        {
          "output_type": "stream",
          "text": [
            "Drive already mounted at /content/gdrive; to attempt to forcibly remount, call drive.mount(\"/content/gdrive\", force_remount=True).\n"
          ],
          "name": "stdout"
        }
      ]
    },
    {
      "cell_type": "code",
      "metadata": {
        "id": "AdULhsaToPi5",
        "colab_type": "code",
        "outputId": "5401d659-c5ee-4e8d-b21d-d2a8b0fe5316",
        "colab": {
          "base_uri": "https://localhost:8080/",
          "height": 52
        }
      },
      "source": [
        "! git clone https://github.com/seshuad/IMagenet\n",
        "! ls 'IMagenet/tiny-imagenet-200/'"
      ],
      "execution_count": 13,
      "outputs": [
        {
          "output_type": "stream",
          "text": [
            "fatal: destination path 'IMagenet' already exists and is not an empty directory.\n",
            "test  train  val  wnids.txt  words.txt\n"
          ],
          "name": "stdout"
        }
      ]
    },
    {
      "cell_type": "markdown",
      "metadata": {
        "id": "S6Mf8Ojmojmc",
        "colab_type": "text"
      },
      "source": [
        "We'll need to update our path to import from Drive."
      ]
    },
    {
      "cell_type": "code",
      "metadata": {
        "id": "psH0aLrvoh78",
        "colab_type": "code",
        "colab": {}
      },
      "source": [
        "import sys\n",
        "sys.path.append('/content/gdrive/My Drive/eva-04/S12/')\n"
      ],
      "execution_count": 0,
      "outputs": []
    },
    {
      "cell_type": "markdown",
      "metadata": {
        "id": "SzL-00dAwV1D",
        "colab_type": "text"
      },
      "source": [
        "PREPERATION OF DATA SET. SPLIT INTO TRAIN AND TEST DATA SETS"
      ]
    },
    {
      "cell_type": "code",
      "metadata": {
        "id": "2FVuF7nB25Bx",
        "colab_type": "code",
        "outputId": "ed10bb72-620b-4563-8dd5-b475a6043fbd",
        "colab": {
          "base_uri": "https://localhost:8080/",
          "height": 89
        }
      },
      "source": [
        "import numpy as np\n",
        "import cv2\n",
        "import io\n",
        "import os\n",
        "from torch.utils.data import DataLoader, Dataset\n",
        "#from torchvision.datasets import ImageFolder\n",
        "from torchvision.transforms import ToTensor\n",
        "from torchvision import transforms\n",
        "import zipfile\n",
        "import torchvision.datasets.folder\n",
        " \n",
        "path = 'IMagenet/tiny-imagenet-200/train'\n",
        "path_val = 'IMagenet/tiny-imagenet-200/val'\n",
        "\n",
        "import random\n",
        "import math\n",
        "from dataset.dataset_utils import create_and_split_dataset, find_classes\n",
        "import dataset.dataset_utils as data_utils\n",
        "import importlib\n",
        "importlib.reload(data_utils)\n",
        "\n",
        "g_classes, g_class_to_idx = find_classes(path)\n",
        "print(g_class_to_idx)\n",
        "train_file_names = []\n",
        "test_file_names = []\n",
        "train_classname_dict = dict()    \n",
        "test_classname_dict = dict()    \n",
        "classes_dict = dict()\n",
        "\n",
        "train_file_names, test_file_names, train_classname_dict, test_classname_dict, classes_dict = create_and_split_dataset(path,g_class_to_idx)\n",
        "\n",
        "print('n02085620_0.JPEG=',classes_dict['n02085620_0.JPEG'])\n",
        "print('n02085620_22.JPEG=',classes_dict['n02085620_22.JPEG'])\n",
        "\n",
        "#Train and, Test data\n",
        "data_dict = dict()\n",
        "data_dict['train_files'] = train_file_names\n",
        "data_dict['test_files'] = test_file_names\n",
        "\n",
        "from dataset.ImagenetDataset import  ImagenetDataset\n",
        "from torch.utils.data import DataLoader\n",
        "from torch.utils.data import RandomSampler\n",
        "from PIL import Image\n",
        "normalize = transforms.Normalize(mean=[0.485, 0.456, 0.406],\n",
        "                                     std=[0.229, 0.224, 0.225])\n",
        "train_tr = transforms.Compose([\n",
        "                               transforms.RandomResizedCrop(32),\n",
        "                               transforms.RandomHorizontalFlip(),\n",
        "                               transforms.ToTensor(),\n",
        "                               normalize])\n",
        "test_tr = transforms.Compose([\n",
        "                              transforms.ToTensor(),\n",
        "                              normalize])\n",
        "        \n",
        "train_data = ImagenetDataset(path,train_file_names, train_classname_dict,classes_dict,transform = train_tr)\n",
        "test_data = ImagenetDataset(path,test_file_names,test_classname_dict,classes_dict,test_tr)\n",
        "#print(test_classname_dict)"
      ],
      "execution_count": 13,
      "outputs": [
        {
          "output_type": "stream",
          "text": [
            "{'n01443537': 0, 'n01629819': 1, 'n01641577': 2, 'n01644900': 3, 'n01698640': 4, 'n01742172': 5, 'n01768244': 6, 'n01770393': 7, 'n01774384': 8, 'n01774750': 9, 'n01784675': 10, 'n01855672': 11, 'n01882714': 12, 'n01910747': 13, 'n01917289': 14, 'n01944390': 15, 'n01945685': 16, 'n01950731': 17, 'n01983481': 18, 'n01984695': 19, 'n02002724': 20, 'n02056570': 21, 'n02058221': 22, 'n02074367': 23, 'n02085620': 24, 'n02094433': 25, 'n02099601': 26, 'n02099712': 27, 'n02106662': 28, 'n02113799': 29, 'n02123045': 30, 'n02123394': 31, 'n02124075': 32, 'n02125311': 33, 'n02129165': 34, 'n02132136': 35, 'n02165456': 36, 'n02190166': 37, 'n02206856': 38, 'n02226429': 39, 'n02231487': 40, 'n02233338': 41, 'n02236044': 42, 'n02268443': 43, 'n02279972': 44, 'n02281406': 45, 'n02321529': 46, 'n02364673': 47, 'n02395406': 48, 'n02403003': 49, 'n02410509': 50, 'n02415577': 51, 'n02423022': 52, 'n02437312': 53, 'n02480495': 54, 'n02481823': 55, 'n02486410': 56, 'n02504458': 57, 'n02509815': 58, 'n02666196': 59, 'n02669723': 60, 'n02699494': 61, 'n02730930': 62, 'n02769748': 63, 'n02788148': 64, 'n02791270': 65, 'n02793495': 66, 'n02795169': 67, 'n02802426': 68, 'n02808440': 69, 'n02814533': 70, 'n02814860': 71, 'n02815834': 72, 'n02823428': 73, 'n02837789': 74, 'n02841315': 75, 'n02843684': 76, 'n02883205': 77, 'n02892201': 78, 'n02906734': 79, 'n02909870': 80, 'n02917067': 81, 'n02927161': 82, 'n02948072': 83, 'n02950826': 84, 'n02963159': 85, 'n02977058': 86, 'n02988304': 87, 'n02999410': 88, 'n03014705': 89, 'n03026506': 90, 'n03042490': 91, 'n03085013': 92, 'n03089624': 93, 'n03100240': 94, 'n03126707': 95, 'n03160309': 96, 'n03179701': 97, 'n03201208': 98, 'n03250847': 99, 'n03255030': 100, 'n03355925': 101, 'n03388043': 102, 'n03393912': 103, 'n03400231': 104, 'n03404251': 105, 'n03424325': 106, 'n03444034': 107, 'n03447447': 108, 'n03544143': 109, 'n03584254': 110, 'n03599486': 111, 'n03617480': 112, 'n03637318': 113, 'n03649909': 114, 'n03662601': 115, 'n03670208': 116, 'n03706229': 117, 'n03733131': 118, 'n03763968': 119, 'n03770439': 120, 'n03796401': 121, 'n03804744': 122, 'n03814639': 123, 'n03837869': 124, 'n03838899': 125, 'n03854065': 126, 'n03891332': 127, 'n03902125': 128, 'n03930313': 129, 'n03937543': 130, 'n03970156': 131, 'n03976657': 132, 'n03977966': 133, 'n03980874': 134, 'n03983396': 135, 'n03992509': 136, 'n04008634': 137, 'n04023962': 138, 'n04067472': 139, 'n04070727': 140, 'n04074963': 141, 'n04099969': 142, 'n04118538': 143, 'n04133789': 144, 'n04146614': 145, 'n04149813': 146, 'n04179913': 147, 'n04251144': 148, 'n04254777': 149, 'n04259630': 150, 'n04265275': 151, 'n04275548': 152, 'n04285008': 153, 'n04311004': 154, 'n04328186': 155, 'n04356056': 156, 'n04366367': 157, 'n04371430': 158, 'n04376876': 159, 'n04398044': 160, 'n04399382': 161, 'n04417672': 162, 'n04456115': 163, 'n04465501': 164, 'n04486054': 165, 'n04487081': 166, 'n04501370': 167, 'n04507155': 168, 'n04532106': 169, 'n04532670': 170, 'n04540053': 171, 'n04560804': 172, 'n04562935': 173, 'n04596742': 174, 'n04597913': 175, 'n06596364': 176, 'n07579787': 177, 'n07583066': 178, 'n07614500': 179, 'n07615774': 180, 'n07695742': 181, 'n07711569': 182, 'n07715103': 183, 'n07720875': 184, 'n07734744': 185, 'n07747607': 186, 'n07749582': 187, 'n07753592': 188, 'n07768694': 189, 'n07871810': 190, 'n07873807': 191, 'n07875152': 192, 'n07920052': 193, 'n09193705': 194, 'n09246464': 195, 'n09256479': 196, 'n09332890': 197, 'n09428293': 198, 'n12267677': 199}\n",
            "n02085620_0.JPEG= 24\n",
            "n02085620_22.JPEG= 24\n"
          ],
          "name": "stdout"
        }
      ]
    },
    {
      "cell_type": "markdown",
      "metadata": {
        "id": "dZRgYw_Noz5E",
        "colab_type": "text"
      },
      "source": [
        "SHOW PARAMETERS"
      ]
    },
    {
      "cell_type": "code",
      "metadata": {
        "id": "nO_cBsL5_kbB",
        "colab_type": "code",
        "outputId": "4c3c66c5-3145-419f-9f26-7fa3699e786d",
        "colab": {
          "base_uri": "https://localhost:8080/",
          "height": 1000
        }
      },
      "source": [
        "from __future__ import print_function\n",
        "import torch\n",
        "import torch.nn as nn\n",
        "import torch.nn.functional as F\n",
        "import torch.optim as optim\n",
        "from torchvision import datasets, transforms\n",
        "\n",
        "from albumentations import Compose, RandomCrop, Normalize, HorizontalFlip, Resize\n",
        "from albumentations.pytorch import ToTensor\n",
        "from models import Resnet18 as resnet18\n",
        "from transformations import ImagenetTiny_Alb as imnet\n",
        "\n",
        "from utils.global_fun import show_summary, run_model_with_entropy,  draw_accuracy_loss_change_graps, plot_accuracy_loss_graphs\n",
        "\n",
        "import importlib\n",
        "importlib.reload(resnet18)\n",
        "importlib.reload(imnet)\n",
        "\n",
        "use_cuda = torch.cuda.is_available()\n",
        "#device = torch.device(\"cuda\" if use_cuda else \"cpu\")\n",
        "device = torch.device(\"cuda:0\" if torch.cuda.is_available() else \"cpu\")\n",
        "\n",
        "print(device)\n",
        "CUDA_LAUNCH_BLOCKING=1\n",
        "imagenet_num_classes = 200\n",
        "model = resnet18.ResNet18(imagenet_num_classes).to(device)\n",
        "criterion = torch.nn.CrossEntropyLoss()\n",
        "importlib.reload(imnet)\n",
        "\n",
        "\n",
        "imagenet_model = imnet.Imagenet_Alb(model,train_data,test_data,criterion,None,None)\n",
        "\n",
        "SEED = 1\n",
        "# CUDA?\n",
        "print(\"CUDA Available?\", use_cuda)\n",
        "\n",
        "# For reproducibility\n",
        "torch.manual_seed(SEED)\n",
        "\n",
        "if use_cuda:\n",
        "    torch.cuda.manual_seed(SEED)\n",
        "show_summary(imagenet_model,input_size=(3,32,32))\n"
      ],
      "execution_count": 4,
      "outputs": [
        {
          "output_type": "stream",
          "text": [
            "cuda:0\n",
            "CUDA Available? True\n",
            "----------------------------------------------------------------\n",
            "        Layer (type)               Output Shape         Param #\n",
            "================================================================\n",
            "            Conv2d-1           [-1, 64, 32, 32]           1,728\n",
            "       BatchNorm2d-2           [-1, 64, 32, 32]             128\n",
            "            Conv2d-3           [-1, 64, 32, 32]          36,864\n",
            "       BatchNorm2d-4           [-1, 64, 32, 32]             128\n",
            "            Conv2d-5           [-1, 64, 32, 32]          36,864\n",
            "       BatchNorm2d-6           [-1, 64, 32, 32]             128\n",
            "        BasicBlock-7           [-1, 64, 32, 32]               0\n",
            "            Conv2d-8           [-1, 64, 32, 32]          36,864\n",
            "       BatchNorm2d-9           [-1, 64, 32, 32]             128\n",
            "           Conv2d-10           [-1, 64, 32, 32]          36,864\n",
            "      BatchNorm2d-11           [-1, 64, 32, 32]             128\n",
            "       BasicBlock-12           [-1, 64, 32, 32]               0\n",
            "           Conv2d-13          [-1, 128, 16, 16]          73,728\n",
            "      BatchNorm2d-14          [-1, 128, 16, 16]             256\n",
            "           Conv2d-15          [-1, 128, 16, 16]         147,456\n",
            "      BatchNorm2d-16          [-1, 128, 16, 16]             256\n",
            "           Conv2d-17          [-1, 128, 16, 16]           8,192\n",
            "      BatchNorm2d-18          [-1, 128, 16, 16]             256\n",
            "       BasicBlock-19          [-1, 128, 16, 16]               0\n",
            "           Conv2d-20          [-1, 128, 16, 16]         147,456\n",
            "      BatchNorm2d-21          [-1, 128, 16, 16]             256\n",
            "           Conv2d-22          [-1, 128, 16, 16]         147,456\n",
            "      BatchNorm2d-23          [-1, 128, 16, 16]             256\n",
            "       BasicBlock-24          [-1, 128, 16, 16]               0\n",
            "           Conv2d-25            [-1, 256, 8, 8]         294,912\n",
            "      BatchNorm2d-26            [-1, 256, 8, 8]             512\n",
            "           Conv2d-27            [-1, 256, 8, 8]         589,824\n",
            "      BatchNorm2d-28            [-1, 256, 8, 8]             512\n",
            "           Conv2d-29            [-1, 256, 8, 8]          32,768\n",
            "      BatchNorm2d-30            [-1, 256, 8, 8]             512\n",
            "       BasicBlock-31            [-1, 256, 8, 8]               0\n",
            "           Conv2d-32            [-1, 256, 8, 8]         589,824\n",
            "      BatchNorm2d-33            [-1, 256, 8, 8]             512\n",
            "           Conv2d-34            [-1, 256, 8, 8]         589,824\n",
            "      BatchNorm2d-35            [-1, 256, 8, 8]             512\n",
            "       BasicBlock-36            [-1, 256, 8, 8]               0\n",
            "           Conv2d-37            [-1, 512, 4, 4]       1,179,648\n",
            "      BatchNorm2d-38            [-1, 512, 4, 4]           1,024\n",
            "           Conv2d-39            [-1, 512, 4, 4]       2,359,296\n",
            "      BatchNorm2d-40            [-1, 512, 4, 4]           1,024\n",
            "           Conv2d-41            [-1, 512, 4, 4]         131,072\n",
            "      BatchNorm2d-42            [-1, 512, 4, 4]           1,024\n",
            "       BasicBlock-43            [-1, 512, 4, 4]               0\n",
            "           Conv2d-44            [-1, 512, 4, 4]       2,359,296\n",
            "      BatchNorm2d-45            [-1, 512, 4, 4]           1,024\n",
            "           Conv2d-46            [-1, 512, 4, 4]       2,359,296\n",
            "      BatchNorm2d-47            [-1, 512, 4, 4]           1,024\n",
            "       BasicBlock-48            [-1, 512, 4, 4]               0\n",
            "           Linear-49                  [-1, 200]         102,600\n",
            "================================================================\n",
            "Total params: 11,271,432\n",
            "Trainable params: 11,271,432\n",
            "Non-trainable params: 0\n",
            "----------------------------------------------------------------\n",
            "Input size (MB): 0.01\n",
            "Forward/backward pass size (MB): 11.25\n",
            "Params size (MB): 43.00\n",
            "Estimated Total Size (MB): 54.26\n",
            "----------------------------------------------------------------\n"
          ],
          "name": "stdout"
        }
      ]
    },
    {
      "cell_type": "markdown",
      "metadata": {
        "id": "xxoV_uRLewcu",
        "colab_type": "text"
      },
      "source": [
        "FIND LR_MAX USING LR FINDER"
      ]
    },
    {
      "cell_type": "code",
      "metadata": {
        "id": "LlYP-G7Ye1T0",
        "colab_type": "code",
        "outputId": "d6c2c179-fc37-4d48-f650-04d60a1d6caa",
        "colab": {
          "base_uri": "https://localhost:8080/",
          "height": 437,
          "referenced_widgets": [
            "76b4eee13b554020a22c3a48df8ffb71",
            "7f89ea4c39e7439995eed317c5152376",
            "297dc3383e4b414f9ffb0241633758c2",
            "707a8e4b3fc040ec9ea0569df54d5908",
            "bad874bd5f8449e8a8cfda482076d01c",
            "3bc06221c36a43bdaf1bcab5d1b422c1",
            "644a046f0ec8452793f33d69baec0e56",
            "8b8d8c58cb274eb69c57929eb3dbd3c2"
          ]
        }
      },
      "source": [
        "import torch.nn as nn\n",
        "import torch.optim as optim\n",
        "import torchvision.transforms as transforms\n",
        "from torch.utils.data import DataLoader\n",
        "#from torchvision.datasets import CIFAR10\n",
        "from lr_finder import LRFinder as lrfinder\n",
        "import dataset.ImagenetDataset as imdataset\n",
        "import importlib\n",
        "\n",
        "#criterion = nn.CrossEntropyLoss()\n",
        "importlib.reload(data_utils)\n",
        "importlib.reload(lrfinder)\n",
        "importlib.reload(imdataset)\n",
        "\n",
        "optimizer = optim.SGD(imagenet_model.m_model.parameters(), lr=1e-7)\n",
        "lr_finder = lrfinder.LRFinder(imagenet_model.m_model, optimizer, criterion, device=\"cuda\")\n",
        "lr_finder.range_test(imagenet_model.m_train_loader, end_lr=100, num_iter=2000, step_mode=\"exp\")\n",
        "lr_finder.plot(skip_end=0, accuracy_flag = True)\n",
        "lr_finder.reset()"
      ],
      "execution_count": 5,
      "outputs": [
        {
          "output_type": "stream",
          "text": [
            "WARNING:lr_finder.LRFinder:To enable mixed precision training, please install `apex`. Or you can re-install this package by the following command:\n",
            "  pip install torch-lr-finder -v --global-option=\"amp\"\n",
            "WARNING:lr_finder.LRFinder:To enable mixed precision training, please install `apex`. Or you can re-install this package by the following command:\n",
            "  pip install torch-lr-finder -v --global-option=\"amp\"\n"
          ],
          "name": "stderr"
        },
        {
          "output_type": "display_data",
          "data": {
            "application/vnd.jupyter.widget-view+json": {
              "model_id": "76b4eee13b554020a22c3a48df8ffb71",
              "version_minor": 0,
              "version_major": 2
            },
            "text/plain": [
              "HBox(children=(IntProgress(value=0, max=2000), HTML(value='')))"
            ]
          },
          "metadata": {
            "tags": []
          }
        },
        {
          "output_type": "stream",
          "text": [
            "Stopping early, the loss has diverged\n",
            "Learning rate search finished. See the graph with {finder_name}.plot()\n",
            "Max Accuracy = 11.1328125 at LR = 5.7279603098582905\n"
          ],
          "name": "stdout"
        },
        {
          "output_type": "display_data",
          "data": {
            "image/png": "[encoded data removed]",
            "text/plain": [
              "<Figure size 432x288 with 1 Axes>"
            ]
          },
          "metadata": {
            "tags": [],
            "needs_background": "light"
          }
        }
      ]
    },
    {
      "cell_type": "markdown",
      "metadata": {
        "id": "t46za6oVJUYG",
        "colab_type": "text"
      },
      "source": [
        "ONECYLE LR SET OPTIMIZER AND SCHEDULER"
      ]
    },
    {
      "cell_type": "code",
      "metadata": {
        "id": "k5Cx6ULUD6AK",
        "colab_type": "code",
        "colab": {}
      },
      "source": [
        "from utils.global_fun import test_model\n",
        "from utils.global_fun import train_model\n",
        "from utils.global_fun import show_summary, run_model_with_entropy,  draw_accuracy_loss_change_graps, plot_accuracy_loss_graphs\n",
        "\n",
        "import utils.global_fun as fun\n",
        "from models import Resnet18 as resnet18\n",
        "from transformations import ImagenetTiny_Alb as imnet\n",
        "#import OneCycleLR_A11 as oneCycle \n",
        "from lr_finder import OneCycleLR_A11 as oneCycle\n",
        "\n",
        "import importlib\n",
        "importlib.reload(resnet18)\n",
        "importlib.reload(oneCycle)\n",
        "importlib.reload(imnet)\n",
        "importlib.reload(fun) \n",
        "#from torch.optim.lr_scheduler import OneCycleLR\n",
        "criterion = torch.nn.CrossEntropyLoss()\n",
        "optimizer = optim.SGD(model.parameters(), lr=0.001, momentum=0.9,weight_decay=5e-04)\n",
        "\n",
        "lr_max = 0.2630267991895384\n",
        "lr_min = lr_max / 100\n",
        "batch_size = 200\n",
        "iterations = 100000/batch_size\n",
        "\n",
        "scheduler = oneCycle.OneCycleLR_A11(optimizer, 24, iterations, (lr_min, lr_max), (0.8, 0.95))\n",
        "\n",
        "imagenet_model.setOptimizer(optimizer)\n",
        "imagenet_model.setScheduler(scheduler)\n"
      ],
      "execution_count": 0,
      "outputs": []
    },
    {
      "cell_type": "markdown",
      "metadata": {
        "id": "78Ja3lpRucVn",
        "colab_type": "text"
      },
      "source": [
        "RUNNING WITH REGULARIZATION"
      ]
    },
    {
      "cell_type": "code",
      "metadata": {
        "id": "arfmTFX9DD_i",
        "colab_type": "code",
        "colab": {
          "base_uri": "https://localhost:8080/",
          "height": 1000
        },
        "outputId": "7bc50215-c3c8-410a-ed7a-1c8b05f314cd"
      },
      "source": [
        "run_model_with_entropy(imagenet_model, device, doL1= 1, doL2=1, LAMBDA=0.0005, EPOCHS=50)"
      ],
      "execution_count": 8,
      "outputs": [
        {
          "output_type": "stream",
          "text": [
            "\r  0%|          | 0/137 [00:00<?, ?it/s]"
          ],
          "name": "stderr"
        },
        {
          "output_type": "stream",
          "text": [
            "EPOCH: 0\n",
            "L1= 1 ;L2= 0.0005 ;LAMBDA= 0 epoch= 0\n"
          ],
          "name": "stdout"
        },
        {
          "output_type": "stream",
          "text": [
            "Loss=4.63726282119751 Batch_id=136 Accuracy=3.75: 100%|██████████| 137/137 [00:36<00:00,  3.72it/s]\n",
            "  0%|          | 0/137 [00:00<?, ?it/s]"
          ],
          "name": "stderr"
        },
        {
          "output_type": "stream",
          "text": [
            "\n",
            "Test set: Average loss: 0.0103, Accuracy: 1074/30000 (3.58%)\n",
            "\n",
            "EPOCH: 1\n",
            "L1= 1 ;L2= 0.0005 ;LAMBDA= 0 epoch= 1\n"
          ],
          "name": "stdout"
        },
        {
          "output_type": "stream",
          "text": [
            "Loss=4.290780544281006 Batch_id=136 Accuracy=8.00: 100%|██████████| 137/137 [00:36<00:00,  3.71it/s]\n",
            "  0%|          | 0/137 [00:00<?, ?it/s]"
          ],
          "name": "stderr"
        },
        {
          "output_type": "stream",
          "text": [
            "\n",
            "Test set: Average loss: 0.0091, Accuracy: 1710/30000 (5.70%)\n",
            "\n",
            "EPOCH: 2\n",
            "L1= 1 ;L2= 0.0005 ;LAMBDA= 0 epoch= 2\n"
          ],
          "name": "stdout"
        },
        {
          "output_type": "stream",
          "text": [
            "Loss=4.120708465576172 Batch_id=136 Accuracy=11.68: 100%|██████████| 137/137 [00:36<00:00,  3.72it/s]\n",
            "  0%|          | 0/137 [00:00<?, ?it/s]"
          ],
          "name": "stderr"
        },
        {
          "output_type": "stream",
          "text": [
            "\n",
            "Test set: Average loss: 0.0085, Accuracy: 2802/30000 (9.34%)\n",
            "\n",
            "EPOCH: 3\n",
            "L1= 1 ;L2= 0.0005 ;LAMBDA= 0 epoch= 3\n"
          ],
          "name": "stdout"
        },
        {
          "output_type": "stream",
          "text": [
            "Loss=3.695847272872925 Batch_id=136 Accuracy=15.16: 100%|██████████| 137/137 [00:36<00:00,  3.71it/s]\n",
            "  0%|          | 0/137 [00:00<?, ?it/s]"
          ],
          "name": "stderr"
        },
        {
          "output_type": "stream",
          "text": [
            "\n",
            "Test set: Average loss: 0.0084, Accuracy: 3062/30000 (10.21%)\n",
            "\n",
            "EPOCH: 4\n",
            "L1= 1 ;L2= 0.0005 ;LAMBDA= 0 epoch= 4\n"
          ],
          "name": "stdout"
        },
        {
          "output_type": "stream",
          "text": [
            "Loss=3.68479585647583 Batch_id=136 Accuracy=18.07: 100%|██████████| 137/137 [00:36<00:00,  3.72it/s]\n",
            "  0%|          | 0/137 [00:00<?, ?it/s]"
          ],
          "name": "stderr"
        },
        {
          "output_type": "stream",
          "text": [
            "\n",
            "Test set: Average loss: 0.0078, Accuracy: 4616/30000 (15.39%)\n",
            "\n",
            "EPOCH: 5\n",
            "L1= 1 ;L2= 0.0005 ;LAMBDA= 0 epoch= 5\n"
          ],
          "name": "stdout"
        },
        {
          "output_type": "stream",
          "text": [
            "Loss=3.6026434898376465 Batch_id=136 Accuracy=20.44: 100%|██████████| 137/137 [00:37<00:00,  3.70it/s]\n",
            "  0%|          | 0/137 [00:00<?, ?it/s]"
          ],
          "name": "stderr"
        },
        {
          "output_type": "stream",
          "text": [
            "\n",
            "Test set: Average loss: 0.0081, Accuracy: 3831/30000 (12.77%)\n",
            "\n",
            "EPOCH: 6\n",
            "L1= 1 ;L2= 0.0005 ;LAMBDA= 0 epoch= 6\n"
          ],
          "name": "stdout"
        },
        {
          "output_type": "stream",
          "text": [
            "Loss=3.328108787536621 Batch_id=136 Accuracy=22.89: 100%|██████████| 137/137 [00:37<00:00,  3.70it/s]\n",
            "  0%|          | 0/137 [00:00<?, ?it/s]"
          ],
          "name": "stderr"
        },
        {
          "output_type": "stream",
          "text": [
            "\n",
            "Test set: Average loss: 0.0076, Accuracy: 5059/30000 (16.86%)\n",
            "\n",
            "EPOCH: 7\n",
            "L1= 1 ;L2= 0.0005 ;LAMBDA= 0 epoch= 7\n"
          ],
          "name": "stdout"
        },
        {
          "output_type": "stream",
          "text": [
            "Loss=3.34843373298645 Batch_id=136 Accuracy=24.57: 100%|██████████| 137/137 [00:36<00:00,  3.70it/s]\n",
            "  0%|          | 0/137 [00:00<?, ?it/s]"
          ],
          "name": "stderr"
        },
        {
          "output_type": "stream",
          "text": [
            "\n",
            "Test set: Average loss: 0.0074, Accuracy: 5551/30000 (18.50%)\n",
            "\n",
            "EPOCH: 8\n",
            "L1= 1 ;L2= 0.0005 ;LAMBDA= 0 epoch= 8\n"
          ],
          "name": "stdout"
        },
        {
          "output_type": "stream",
          "text": [
            "Loss=3.1522817611694336 Batch_id=136 Accuracy=26.37: 100%|██████████| 137/137 [00:37<00:00,  3.68it/s]\n",
            "  0%|          | 0/137 [00:00<?, ?it/s]"
          ],
          "name": "stderr"
        },
        {
          "output_type": "stream",
          "text": [
            "\n",
            "Test set: Average loss: 0.0074, Accuracy: 5535/30000 (18.45%)\n",
            "\n",
            "EPOCH: 9\n",
            "L1= 1 ;L2= 0.0005 ;LAMBDA= 0 epoch= 9\n"
          ],
          "name": "stdout"
        },
        {
          "output_type": "stream",
          "text": [
            "Loss=3.1832549571990967 Batch_id=136 Accuracy=27.92: 100%|██████████| 137/137 [00:37<00:00,  3.68it/s]\n",
            "  0%|          | 0/137 [00:00<?, ?it/s]"
          ],
          "name": "stderr"
        },
        {
          "output_type": "stream",
          "text": [
            "\n",
            "Test set: Average loss: 0.0071, Accuracy: 6356/30000 (21.19%)\n",
            "\n",
            "EPOCH: 10\n",
            "L1= 1 ;L2= 0.0005 ;LAMBDA= 0 epoch= 10\n"
          ],
          "name": "stdout"
        },
        {
          "output_type": "stream",
          "text": [
            "Loss=3.033717632293701 Batch_id=136 Accuracy=29.50: 100%|██████████| 137/137 [00:37<00:00,  3.68it/s]\n",
            "  0%|          | 0/137 [00:00<?, ?it/s]"
          ],
          "name": "stderr"
        },
        {
          "output_type": "stream",
          "text": [
            "\n",
            "Test set: Average loss: 0.0072, Accuracy: 5892/30000 (19.64%)\n",
            "\n",
            "EPOCH: 11\n",
            "L1= 1 ;L2= 0.0005 ;LAMBDA= 0 epoch= 11\n"
          ],
          "name": "stdout"
        },
        {
          "output_type": "stream",
          "text": [
            "Loss=3.1159067153930664 Batch_id=136 Accuracy=30.55: 100%|██████████| 137/137 [00:37<00:00,  3.67it/s]\n",
            "  0%|          | 0/137 [00:00<?, ?it/s]"
          ],
          "name": "stderr"
        },
        {
          "output_type": "stream",
          "text": [
            "\n",
            "Test set: Average loss: 0.0075, Accuracy: 5316/30000 (17.72%)\n",
            "\n",
            "EPOCH: 12\n",
            "L1= 1 ;L2= 0.0005 ;LAMBDA= 0 epoch= 12\n"
          ],
          "name": "stdout"
        },
        {
          "output_type": "stream",
          "text": [
            "Loss=2.9594924449920654 Batch_id=136 Accuracy=31.51: 100%|██████████| 137/137 [00:37<00:00,  3.65it/s]\n",
            "  0%|          | 0/137 [00:00<?, ?it/s]"
          ],
          "name": "stderr"
        },
        {
          "output_type": "stream",
          "text": [
            "\n",
            "Test set: Average loss: 0.0071, Accuracy: 6171/30000 (20.57%)\n",
            "\n",
            "EPOCH: 13\n",
            "L1= 1 ;L2= 0.0005 ;LAMBDA= 0 epoch= 13\n"
          ],
          "name": "stdout"
        },
        {
          "output_type": "stream",
          "text": [
            "Loss=2.970482587814331 Batch_id=136 Accuracy=32.48: 100%|██████████| 137/137 [00:37<00:00,  3.66it/s]\n",
            "  0%|          | 0/137 [00:00<?, ?it/s]"
          ],
          "name": "stderr"
        },
        {
          "output_type": "stream",
          "text": [
            "\n",
            "Test set: Average loss: 0.0072, Accuracy: 5987/30000 (19.96%)\n",
            "\n",
            "EPOCH: 14\n",
            "L1= 1 ;L2= 0.0005 ;LAMBDA= 0 epoch= 14\n"
          ],
          "name": "stdout"
        },
        {
          "output_type": "stream",
          "text": [
            "Loss=2.8865694999694824 Batch_id=136 Accuracy=33.68: 100%|██████████| 137/137 [00:37<00:00,  3.67it/s]\n",
            "  0%|          | 0/137 [00:00<?, ?it/s]"
          ],
          "name": "stderr"
        },
        {
          "output_type": "stream",
          "text": [
            "\n",
            "Test set: Average loss: 0.0077, Accuracy: 4974/30000 (16.58%)\n",
            "\n",
            "EPOCH: 15\n",
            "L1= 1 ;L2= 0.0005 ;LAMBDA= 0 epoch= 15\n"
          ],
          "name": "stdout"
        },
        {
          "output_type": "stream",
          "text": [
            "Loss=2.9776432514190674 Batch_id=136 Accuracy=34.30: 100%|██████████| 137/137 [00:37<00:00,  3.66it/s]\n",
            "  0%|          | 0/137 [00:00<?, ?it/s]"
          ],
          "name": "stderr"
        },
        {
          "output_type": "stream",
          "text": [
            "\n",
            "Test set: Average loss: 0.0070, Accuracy: 6724/30000 (22.41%)\n",
            "\n",
            "EPOCH: 16\n",
            "L1= 1 ;L2= 0.0005 ;LAMBDA= 0 epoch= 16\n"
          ],
          "name": "stdout"
        },
        {
          "output_type": "stream",
          "text": [
            "Loss=2.7227423191070557 Batch_id=136 Accuracy=35.19: 100%|██████████| 137/137 [00:37<00:00,  3.69it/s]\n",
            "  0%|          | 0/137 [00:00<?, ?it/s]"
          ],
          "name": "stderr"
        },
        {
          "output_type": "stream",
          "text": [
            "\n",
            "Test set: Average loss: 0.0067, Accuracy: 7739/30000 (25.80%)\n",
            "\n",
            "EPOCH: 17\n",
            "L1= 1 ;L2= 0.0005 ;LAMBDA= 0 epoch= 17\n"
          ],
          "name": "stdout"
        },
        {
          "output_type": "stream",
          "text": [
            "Loss=2.6302764415740967 Batch_id=136 Accuracy=35.81: 100%|██████████| 137/137 [00:37<00:00,  3.66it/s]\n",
            "  0%|          | 0/137 [00:00<?, ?it/s]"
          ],
          "name": "stderr"
        },
        {
          "output_type": "stream",
          "text": [
            "\n",
            "Test set: Average loss: 0.0064, Accuracy: 8658/30000 (28.86%)\n",
            "\n",
            "EPOCH: 18\n",
            "L1= 1 ;L2= 0.0005 ;LAMBDA= 0 epoch= 18\n"
          ],
          "name": "stdout"
        },
        {
          "output_type": "stream",
          "text": [
            "Loss=2.7591280937194824 Batch_id=136 Accuracy=36.46: 100%|██████████| 137/137 [00:37<00:00,  3.67it/s]\n",
            "  0%|          | 0/137 [00:00<?, ?it/s]"
          ],
          "name": "stderr"
        },
        {
          "output_type": "stream",
          "text": [
            "\n",
            "Test set: Average loss: 0.0065, Accuracy: 7833/30000 (26.11%)\n",
            "\n",
            "EPOCH: 19\n",
            "L1= 1 ;L2= 0.0005 ;LAMBDA= 0 epoch= 19\n"
          ],
          "name": "stdout"
        },
        {
          "output_type": "stream",
          "text": [
            "Loss=2.623541831970215 Batch_id=136 Accuracy=37.06: 100%|██████████| 137/137 [00:37<00:00,  3.65it/s]\n",
            "  0%|          | 0/137 [00:00<?, ?it/s]"
          ],
          "name": "stderr"
        },
        {
          "output_type": "stream",
          "text": [
            "\n",
            "Test set: Average loss: 0.0065, Accuracy: 7608/30000 (25.36%)\n",
            "\n",
            "EPOCH: 20\n",
            "L1= 1 ;L2= 0.0005 ;LAMBDA= 0 epoch= 20\n"
          ],
          "name": "stdout"
        },
        {
          "output_type": "stream",
          "text": [
            "Loss=2.6317920684814453 Batch_id=136 Accuracy=37.29: 100%|██████████| 137/137 [00:37<00:00,  3.66it/s]\n",
            "  0%|          | 0/137 [00:00<?, ?it/s]"
          ],
          "name": "stderr"
        },
        {
          "output_type": "stream",
          "text": [
            "\n",
            "Test set: Average loss: 0.0067, Accuracy: 7609/30000 (25.36%)\n",
            "\n",
            "EPOCH: 21\n",
            "L1= 1 ;L2= 0.0005 ;LAMBDA= 0 epoch= 21\n"
          ],
          "name": "stdout"
        },
        {
          "output_type": "stream",
          "text": [
            "Loss=2.7130725383758545 Batch_id=136 Accuracy=38.21: 100%|██████████| 137/137 [00:37<00:00,  3.66it/s]\n",
            "  0%|          | 0/137 [00:00<?, ?it/s]"
          ],
          "name": "stderr"
        },
        {
          "output_type": "stream",
          "text": [
            "\n",
            "Test set: Average loss: 0.0068, Accuracy: 7349/30000 (24.50%)\n",
            "\n",
            "EPOCH: 22\n",
            "L1= 1 ;L2= 0.0005 ;LAMBDA= 0 epoch= 22\n"
          ],
          "name": "stdout"
        },
        {
          "output_type": "stream",
          "text": [
            "Loss=2.767247200012207 Batch_id=136 Accuracy=38.87: 100%|██████████| 137/137 [00:37<00:00,  3.64it/s]\n",
            "  0%|          | 0/137 [00:00<?, ?it/s]"
          ],
          "name": "stderr"
        },
        {
          "output_type": "stream",
          "text": [
            "\n",
            "Test set: Average loss: 0.0068, Accuracy: 6952/30000 (23.17%)\n",
            "\n",
            "EPOCH: 23\n",
            "L1= 1 ;L2= 0.0005 ;LAMBDA= 0 epoch= 23\n"
          ],
          "name": "stdout"
        },
        {
          "output_type": "stream",
          "text": [
            "Loss=2.826690435409546 Batch_id=136 Accuracy=38.95: 100%|██████████| 137/137 [00:37<00:00,  3.65it/s]\n",
            "  0%|          | 0/137 [00:00<?, ?it/s]"
          ],
          "name": "stderr"
        },
        {
          "output_type": "stream",
          "text": [
            "\n",
            "Test set: Average loss: 0.0072, Accuracy: 5801/30000 (19.34%)\n",
            "\n",
            "EPOCH: 24\n",
            "L1= 1 ;L2= 0.0005 ;LAMBDA= 0 epoch= 24\n"
          ],
          "name": "stdout"
        },
        {
          "output_type": "stream",
          "text": [
            "Loss=2.6872284412384033 Batch_id=136 Accuracy=39.41: 100%|██████████| 137/137 [00:37<00:00,  3.66it/s]\n",
            "  0%|          | 0/137 [00:00<?, ?it/s]"
          ],
          "name": "stderr"
        },
        {
          "output_type": "stream",
          "text": [
            "\n",
            "Test set: Average loss: 0.0070, Accuracy: 6401/30000 (21.34%)\n",
            "\n",
            "EPOCH: 25\n",
            "L1= 1 ;L2= 0.0005 ;LAMBDA= 0 epoch= 25\n"
          ],
          "name": "stdout"
        },
        {
          "output_type": "stream",
          "text": [
            "Loss=2.6927459239959717 Batch_id=136 Accuracy=39.74: 100%|██████████| 137/137 [00:37<00:00,  3.65it/s]\n",
            "  0%|          | 0/137 [00:00<?, ?it/s]"
          ],
          "name": "stderr"
        },
        {
          "output_type": "stream",
          "text": [
            "\n",
            "Test set: Average loss: 0.0062, Accuracy: 8592/30000 (28.64%)\n",
            "\n",
            "EPOCH: 26\n",
            "L1= 1 ;L2= 0.0005 ;LAMBDA= 0 epoch= 26\n"
          ],
          "name": "stdout"
        },
        {
          "output_type": "stream",
          "text": [
            "Loss=2.6179614067077637 Batch_id=136 Accuracy=40.41: 100%|██████████| 137/137 [00:37<00:00,  3.64it/s]\n",
            "  0%|          | 0/137 [00:00<?, ?it/s]"
          ],
          "name": "stderr"
        },
        {
          "output_type": "stream",
          "text": [
            "\n",
            "Test set: Average loss: 0.0063, Accuracy: 8320/30000 (27.73%)\n",
            "\n",
            "EPOCH: 27\n",
            "L1= 1 ;L2= 0.0005 ;LAMBDA= 0 epoch= 27\n"
          ],
          "name": "stdout"
        },
        {
          "output_type": "stream",
          "text": [
            "Loss=2.530329942703247 Batch_id=136 Accuracy=40.77: 100%|██████████| 137/137 [00:37<00:00,  3.64it/s]\n",
            "  0%|          | 0/137 [00:00<?, ?it/s]"
          ],
          "name": "stderr"
        },
        {
          "output_type": "stream",
          "text": [
            "\n",
            "Test set: Average loss: 0.0065, Accuracy: 8108/30000 (27.03%)\n",
            "\n",
            "EPOCH: 28\n",
            "L1= 1 ;L2= 0.0005 ;LAMBDA= 0 epoch= 28\n"
          ],
          "name": "stdout"
        },
        {
          "output_type": "stream",
          "text": [
            "Loss=2.5095624923706055 Batch_id=136 Accuracy=41.07: 100%|██████████| 137/137 [00:37<00:00,  3.63it/s]\n",
            "  0%|          | 0/137 [00:00<?, ?it/s]"
          ],
          "name": "stderr"
        },
        {
          "output_type": "stream",
          "text": [
            "\n",
            "Test set: Average loss: 0.0064, Accuracy: 8056/30000 (26.85%)\n",
            "\n",
            "EPOCH: 29\n",
            "L1= 1 ;L2= 0.0005 ;LAMBDA= 0 epoch= 29\n"
          ],
          "name": "stdout"
        },
        {
          "output_type": "stream",
          "text": [
            "Loss=2.406463861465454 Batch_id=136 Accuracy=41.37: 100%|██████████| 137/137 [00:38<00:00,  3.61it/s]\n",
            "  0%|          | 0/137 [00:00<?, ?it/s]"
          ],
          "name": "stderr"
        },
        {
          "output_type": "stream",
          "text": [
            "\n",
            "Test set: Average loss: 0.0065, Accuracy: 7934/30000 (26.45%)\n",
            "\n",
            "EPOCH: 30\n",
            "L1= 1 ;L2= 0.0005 ;LAMBDA= 0 epoch= 30\n"
          ],
          "name": "stdout"
        },
        {
          "output_type": "stream",
          "text": [
            "Loss=2.404188871383667 Batch_id=136 Accuracy=41.70: 100%|██████████| 137/137 [00:37<00:00,  3.65it/s]\n",
            "  0%|          | 0/137 [00:00<?, ?it/s]"
          ],
          "name": "stderr"
        },
        {
          "output_type": "stream",
          "text": [
            "\n",
            "Test set: Average loss: 0.0060, Accuracy: 9370/30000 (31.23%)\n",
            "\n",
            "EPOCH: 31\n",
            "L1= 1 ;L2= 0.0005 ;LAMBDA= 0 epoch= 31\n"
          ],
          "name": "stdout"
        },
        {
          "output_type": "stream",
          "text": [
            "Loss=2.4957475662231445 Batch_id=136 Accuracy=42.34: 100%|██████████| 137/137 [00:37<00:00,  3.62it/s]\n",
            "  0%|          | 0/137 [00:00<?, ?it/s]"
          ],
          "name": "stderr"
        },
        {
          "output_type": "stream",
          "text": [
            "\n",
            "Test set: Average loss: 0.0062, Accuracy: 8665/30000 (28.88%)\n",
            "\n",
            "EPOCH: 32\n",
            "L1= 1 ;L2= 0.0005 ;LAMBDA= 0 epoch= 32\n"
          ],
          "name": "stdout"
        },
        {
          "output_type": "stream",
          "text": [
            "Loss=2.452733278274536 Batch_id=136 Accuracy=42.25: 100%|██████████| 137/137 [00:37<00:00,  3.65it/s]\n",
            "  0%|          | 0/137 [00:00<?, ?it/s]"
          ],
          "name": "stderr"
        },
        {
          "output_type": "stream",
          "text": [
            "\n",
            "Test set: Average loss: 0.0067, Accuracy: 7610/30000 (25.37%)\n",
            "\n",
            "EPOCH: 33\n",
            "L1= 1 ;L2= 0.0005 ;LAMBDA= 0 epoch= 33\n"
          ],
          "name": "stdout"
        },
        {
          "output_type": "stream",
          "text": [
            "Loss=2.6030406951904297 Batch_id=136 Accuracy=42.60: 100%|██████████| 137/137 [00:37<00:00,  3.65it/s]\n",
            "  0%|          | 0/137 [00:00<?, ?it/s]"
          ],
          "name": "stderr"
        },
        {
          "output_type": "stream",
          "text": [
            "\n",
            "Test set: Average loss: 0.0063, Accuracy: 8499/30000 (28.33%)\n",
            "\n",
            "EPOCH: 34\n",
            "L1= 1 ;L2= 0.0005 ;LAMBDA= 0 epoch= 34\n"
          ],
          "name": "stdout"
        },
        {
          "output_type": "stream",
          "text": [
            "Loss=2.3666770458221436 Batch_id=136 Accuracy=42.63: 100%|██████████| 137/137 [00:37<00:00,  3.65it/s]\n",
            "  0%|          | 0/137 [00:00<?, ?it/s]"
          ],
          "name": "stderr"
        },
        {
          "output_type": "stream",
          "text": [
            "\n",
            "Test set: Average loss: 0.0065, Accuracy: 8036/30000 (26.79%)\n",
            "\n",
            "EPOCH: 35\n",
            "L1= 1 ;L2= 0.0005 ;LAMBDA= 0 epoch= 35\n"
          ],
          "name": "stdout"
        },
        {
          "output_type": "stream",
          "text": [
            "Loss=2.6290762424468994 Batch_id=136 Accuracy=43.14: 100%|██████████| 137/137 [00:37<00:00,  3.61it/s]\n",
            "  0%|          | 0/137 [00:00<?, ?it/s]"
          ],
          "name": "stderr"
        },
        {
          "output_type": "stream",
          "text": [
            "\n",
            "Test set: Average loss: 0.0064, Accuracy: 8428/30000 (28.09%)\n",
            "\n",
            "EPOCH: 36\n",
            "L1= 1 ;L2= 0.0005 ;LAMBDA= 0 epoch= 36\n"
          ],
          "name": "stdout"
        },
        {
          "output_type": "stream",
          "text": [
            "Loss=2.3721489906311035 Batch_id=136 Accuracy=43.29: 100%|██████████| 137/137 [00:37<00:00,  3.62it/s]\n",
            "  0%|          | 0/137 [00:00<?, ?it/s]"
          ],
          "name": "stderr"
        },
        {
          "output_type": "stream",
          "text": [
            "\n",
            "Test set: Average loss: 0.0063, Accuracy: 8501/30000 (28.34%)\n",
            "\n",
            "EPOCH: 37\n",
            "L1= 1 ;L2= 0.0005 ;LAMBDA= 0 epoch= 37\n"
          ],
          "name": "stdout"
        },
        {
          "output_type": "stream",
          "text": [
            "Loss=2.4684393405914307 Batch_id=136 Accuracy=43.44: 100%|██████████| 137/137 [00:37<00:00,  3.63it/s]\n",
            "  0%|          | 0/137 [00:00<?, ?it/s]"
          ],
          "name": "stderr"
        },
        {
          "output_type": "stream",
          "text": [
            "\n",
            "Test set: Average loss: 0.0060, Accuracy: 9545/30000 (31.82%)\n",
            "\n",
            "EPOCH: 38\n",
            "L1= 1 ;L2= 0.0005 ;LAMBDA= 0 epoch= 38\n"
          ],
          "name": "stdout"
        },
        {
          "output_type": "stream",
          "text": [
            "Loss=2.645861864089966 Batch_id=136 Accuracy=43.75: 100%|██████████| 137/137 [00:37<00:00,  3.63it/s]\n",
            "  0%|          | 0/137 [00:00<?, ?it/s]"
          ],
          "name": "stderr"
        },
        {
          "output_type": "stream",
          "text": [
            "\n",
            "Test set: Average loss: 0.0064, Accuracy: 8088/30000 (26.96%)\n",
            "\n",
            "EPOCH: 39\n",
            "L1= 1 ;L2= 0.0005 ;LAMBDA= 0 epoch= 39\n"
          ],
          "name": "stdout"
        },
        {
          "output_type": "stream",
          "text": [
            "Loss=2.3117775917053223 Batch_id=136 Accuracy=44.10: 100%|██████████| 137/137 [00:37<00:00,  3.62it/s]\n",
            "  0%|          | 0/137 [00:00<?, ?it/s]"
          ],
          "name": "stderr"
        },
        {
          "output_type": "stream",
          "text": [
            "\n",
            "Test set: Average loss: 0.0060, Accuracy: 9177/30000 (30.59%)\n",
            "\n",
            "EPOCH: 40\n",
            "L1= 1 ;L2= 0.0005 ;LAMBDA= 0 epoch= 40\n"
          ],
          "name": "stdout"
        },
        {
          "output_type": "stream",
          "text": [
            "Loss=2.355250597000122 Batch_id=136 Accuracy=44.46: 100%|██████████| 137/137 [00:37<00:00,  3.63it/s]\n",
            "  0%|          | 0/137 [00:00<?, ?it/s]"
          ],
          "name": "stderr"
        },
        {
          "output_type": "stream",
          "text": [
            "\n",
            "Test set: Average loss: 0.0062, Accuracy: 8714/30000 (29.05%)\n",
            "\n",
            "EPOCH: 41\n",
            "L1= 1 ;L2= 0.0005 ;LAMBDA= 0 epoch= 41\n"
          ],
          "name": "stdout"
        },
        {
          "output_type": "stream",
          "text": [
            "Loss=2.3787598609924316 Batch_id=136 Accuracy=44.18: 100%|██████████| 137/137 [00:37<00:00,  3.62it/s]\n",
            "  0%|          | 0/137 [00:00<?, ?it/s]"
          ],
          "name": "stderr"
        },
        {
          "output_type": "stream",
          "text": [
            "\n",
            "Test set: Average loss: 0.0060, Accuracy: 9370/30000 (31.23%)\n",
            "\n",
            "EPOCH: 42\n",
            "L1= 1 ;L2= 0.0005 ;LAMBDA= 0 epoch= 42\n"
          ],
          "name": "stdout"
        },
        {
          "output_type": "stream",
          "text": [
            "Loss=2.4092838764190674 Batch_id=136 Accuracy=44.48: 100%|██████████| 137/137 [00:37<00:00,  3.66it/s]\n",
            "  0%|          | 0/137 [00:00<?, ?it/s]"
          ],
          "name": "stderr"
        },
        {
          "output_type": "stream",
          "text": [
            "\n",
            "Test set: Average loss: 0.0069, Accuracy: 7027/30000 (23.42%)\n",
            "\n",
            "EPOCH: 43\n",
            "L1= 1 ;L2= 0.0005 ;LAMBDA= 0 epoch= 43\n"
          ],
          "name": "stdout"
        },
        {
          "output_type": "stream",
          "text": [
            "Loss=2.196716785430908 Batch_id=136 Accuracy=44.49: 100%|██████████| 137/137 [00:37<00:00,  3.64it/s]\n",
            "  0%|          | 0/137 [00:00<?, ?it/s]"
          ],
          "name": "stderr"
        },
        {
          "output_type": "stream",
          "text": [
            "\n",
            "Test set: Average loss: 0.0063, Accuracy: 8480/30000 (28.27%)\n",
            "\n",
            "EPOCH: 44\n",
            "L1= 1 ;L2= 0.0005 ;LAMBDA= 0 epoch= 44\n"
          ],
          "name": "stdout"
        },
        {
          "output_type": "stream",
          "text": [
            "Loss=2.4433388710021973 Batch_id=136 Accuracy=45.15: 100%|██████████| 137/137 [00:37<00:00,  3.65it/s]\n",
            "  0%|          | 0/137 [00:00<?, ?it/s]"
          ],
          "name": "stderr"
        },
        {
          "output_type": "stream",
          "text": [
            "\n",
            "Test set: Average loss: 0.0069, Accuracy: 7459/30000 (24.86%)\n",
            "\n",
            "EPOCH: 45\n",
            "L1= 1 ;L2= 0.0005 ;LAMBDA= 0 epoch= 45\n"
          ],
          "name": "stdout"
        },
        {
          "output_type": "stream",
          "text": [
            "Loss=2.4570186138153076 Batch_id=136 Accuracy=44.91: 100%|██████████| 137/137 [00:37<00:00,  3.67it/s]\n",
            "  0%|          | 0/137 [00:00<?, ?it/s]"
          ],
          "name": "stderr"
        },
        {
          "output_type": "stream",
          "text": [
            "\n",
            "Test set: Average loss: 0.0061, Accuracy: 9164/30000 (30.55%)\n",
            "\n",
            "EPOCH: 46\n",
            "L1= 1 ;L2= 0.0005 ;LAMBDA= 0 epoch= 46\n"
          ],
          "name": "stdout"
        },
        {
          "output_type": "stream",
          "text": [
            "Loss=2.344416856765747 Batch_id=136 Accuracy=45.07: 100%|██████████| 137/137 [00:37<00:00,  3.65it/s]\n",
            "  0%|          | 0/137 [00:00<?, ?it/s]"
          ],
          "name": "stderr"
        },
        {
          "output_type": "stream",
          "text": [
            "\n",
            "Test set: Average loss: 0.0055, Accuracy: 11042/30000 (36.81%)\n",
            "\n",
            "EPOCH: 47\n",
            "L1= 1 ;L2= 0.0005 ;LAMBDA= 0 epoch= 47\n"
          ],
          "name": "stdout"
        },
        {
          "output_type": "stream",
          "text": [
            "Loss=2.2759451866149902 Batch_id=136 Accuracy=45.60: 100%|██████████| 137/137 [00:37<00:00,  3.66it/s]\n",
            "  0%|          | 0/137 [00:00<?, ?it/s]"
          ],
          "name": "stderr"
        },
        {
          "output_type": "stream",
          "text": [
            "\n",
            "Test set: Average loss: 0.0064, Accuracy: 8129/30000 (27.10%)\n",
            "\n",
            "EPOCH: 48\n",
            "L1= 1 ;L2= 0.0005 ;LAMBDA= 0 epoch= 48\n"
          ],
          "name": "stdout"
        },
        {
          "output_type": "stream",
          "text": [
            "Loss=2.2954182624816895 Batch_id=136 Accuracy=45.86: 100%|██████████| 137/137 [00:38<00:00,  3.59it/s]\n",
            "  0%|          | 0/137 [00:00<?, ?it/s]"
          ],
          "name": "stderr"
        },
        {
          "output_type": "stream",
          "text": [
            "\n",
            "Test set: Average loss: 0.0063, Accuracy: 8844/30000 (29.48%)\n",
            "\n",
            "EPOCH: 49\n",
            "L1= 1 ;L2= 0.0005 ;LAMBDA= 0 epoch= 49\n"
          ],
          "name": "stdout"
        },
        {
          "output_type": "stream",
          "text": [
            "Loss=2.4056479930877686 Batch_id=136 Accuracy=45.49: 100%|██████████| 137/137 [00:37<00:00,  3.68it/s]\n"
          ],
          "name": "stderr"
        },
        {
          "output_type": "stream",
          "text": [
            "\n",
            "Test set: Average loss: 0.0059, Accuracy: 9903/30000 (33.01%)\n",
            "\n"
          ],
          "name": "stdout"
        }
      ]
    },
    {
      "cell_type": "markdown",
      "metadata": {
        "id": "d45eXn9FPzAW",
        "colab_type": "text"
      },
      "source": [
        "RESET THE OPTIMIZER AND SCHEDULER WITH DIFFERENT VALUES"
      ]
    },
    {
      "cell_type": "code",
      "metadata": {
        "id": "SC0XAKx6Pa-a",
        "colab_type": "code",
        "colab": {}
      },
      "source": [
        "optimizer = optim.SGD(model.parameters(), lr=0.001, momentum=0.9,weight_decay=5e-04)\n",
        "lr_max = 0.02630267991895384\n",
        "lr_min = lr_max / 10\n",
        "batch_size = 200\n",
        "iterations = 100000/batch_size\n",
        "\n",
        "scheduler = oneCycle.OneCycleLR_A11(optimizer, 24, iterations, (lr_min, lr_max), (0.8, 0.95))\n",
        "#cifar_model(optimizer,scheduler)\n",
        "\n",
        "imagenet_model.setOptimizer(optimizer)\n",
        "imagenet_model.setScheduler(scheduler)"
      ],
      "execution_count": 0,
      "outputs": []
    },
    {
      "cell_type": "code",
      "metadata": {
        "id": "Vegug4AePjYl",
        "colab_type": "code",
        "colab": {
          "base_uri": "https://localhost:8080/",
          "height": 1000
        },
        "outputId": "98c1bbe2-53e4-44cb-9148-fb29a71c9cb1"
      },
      "source": [
        "run_model_with_entropy(imagenet_model, device, doL1= 0, doL2=0, LAMBDA=0, EPOCHS=25,start=50)"
      ],
      "execution_count": 11,
      "outputs": [
        {
          "output_type": "stream",
          "text": [
            "\r  0%|          | 0/137 [00:00<?, ?it/s]"
          ],
          "name": "stderr"
        },
        {
          "output_type": "stream",
          "text": [
            "EPOCH: 50\n",
            "L1= 0 ;L2= 0 ;LAMBDA= 0 epoch= 0\n"
          ],
          "name": "stdout"
        },
        {
          "output_type": "stream",
          "text": [
            "Loss=1.821168303489685 Batch_id=136 Accuracy=54.94: 100%|██████████| 137/137 [00:37<00:00,  3.65it/s]\n",
            "  0%|          | 0/137 [00:00<?, ?it/s]"
          ],
          "name": "stderr"
        },
        {
          "output_type": "stream",
          "text": [
            "\n",
            "Test set: Average loss: 0.0047, Accuracy: 14467/30000 (48.22%)\n",
            "\n",
            "EPOCH: 51\n",
            "L1= 0 ;L2= 0 ;LAMBDA= 0 epoch= 1\n"
          ],
          "name": "stdout"
        },
        {
          "output_type": "stream",
          "text": [
            "Loss=1.5815807580947876 Batch_id=136 Accuracy=58.54: 100%|██████████| 137/137 [00:37<00:00,  3.66it/s]\n",
            "  0%|          | 0/137 [00:00<?, ?it/s]"
          ],
          "name": "stderr"
        },
        {
          "output_type": "stream",
          "text": [
            "\n",
            "Test set: Average loss: 0.0046, Accuracy: 14421/30000 (48.07%)\n",
            "\n",
            "EPOCH: 52\n",
            "L1= 0 ;L2= 0 ;LAMBDA= 0 epoch= 2\n"
          ],
          "name": "stdout"
        },
        {
          "output_type": "stream",
          "text": [
            "Loss=1.7147575616836548 Batch_id=136 Accuracy=60.04: 100%|██████████| 137/137 [00:37<00:00,  3.67it/s]\n",
            "  0%|          | 0/137 [00:00<?, ?it/s]"
          ],
          "name": "stderr"
        },
        {
          "output_type": "stream",
          "text": [
            "\n",
            "Test set: Average loss: 0.0044, Accuracy: 14976/30000 (49.92%)\n",
            "\n",
            "EPOCH: 53\n",
            "L1= 0 ;L2= 0 ;LAMBDA= 0 epoch= 3\n"
          ],
          "name": "stdout"
        },
        {
          "output_type": "stream",
          "text": [
            "Loss=1.5292929410934448 Batch_id=136 Accuracy=61.19: 100%|██████████| 137/137 [00:37<00:00,  3.66it/s]\n",
            "  0%|          | 0/137 [00:00<?, ?it/s]"
          ],
          "name": "stderr"
        },
        {
          "output_type": "stream",
          "text": [
            "\n",
            "Test set: Average loss: 0.0044, Accuracy: 14843/30000 (49.48%)\n",
            "\n",
            "EPOCH: 54\n",
            "L1= 0 ;L2= 0 ;LAMBDA= 0 epoch= 4\n"
          ],
          "name": "stdout"
        },
        {
          "output_type": "stream",
          "text": [
            "Loss=1.6579512357711792 Batch_id=136 Accuracy=61.92: 100%|██████████| 137/137 [00:37<00:00,  3.68it/s]\n",
            "  0%|          | 0/137 [00:00<?, ?it/s]"
          ],
          "name": "stderr"
        },
        {
          "output_type": "stream",
          "text": [
            "\n",
            "Test set: Average loss: 0.0044, Accuracy: 14854/30000 (49.51%)\n",
            "\n",
            "EPOCH: 55\n",
            "L1= 0 ;L2= 0 ;LAMBDA= 0 epoch= 5\n"
          ],
          "name": "stdout"
        },
        {
          "output_type": "stream",
          "text": [
            "Loss=1.3682342767715454 Batch_id=136 Accuracy=62.96: 100%|██████████| 137/137 [00:37<00:00,  3.68it/s]\n",
            "  0%|          | 0/137 [00:00<?, ?it/s]"
          ],
          "name": "stderr"
        },
        {
          "output_type": "stream",
          "text": [
            "\n",
            "Test set: Average loss: 0.0043, Accuracy: 15034/30000 (50.11%)\n",
            "\n",
            "EPOCH: 56\n",
            "L1= 0 ;L2= 0 ;LAMBDA= 0 epoch= 6\n"
          ],
          "name": "stdout"
        },
        {
          "output_type": "stream",
          "text": [
            "Loss=1.4761946201324463 Batch_id=136 Accuracy=63.35: 100%|██████████| 137/137 [00:37<00:00,  3.69it/s]\n",
            "  0%|          | 0/137 [00:00<?, ?it/s]"
          ],
          "name": "stderr"
        },
        {
          "output_type": "stream",
          "text": [
            "\n",
            "Test set: Average loss: 0.0043, Accuracy: 15154/30000 (50.51%)\n",
            "\n",
            "EPOCH: 57\n",
            "L1= 0 ;L2= 0 ;LAMBDA= 0 epoch= 7\n"
          ],
          "name": "stdout"
        },
        {
          "output_type": "stream",
          "text": [
            "Loss=1.498450517654419 Batch_id=136 Accuracy=64.00: 100%|██████████| 137/137 [00:37<00:00,  3.69it/s]\n",
            "  0%|          | 0/137 [00:00<?, ?it/s]"
          ],
          "name": "stderr"
        },
        {
          "output_type": "stream",
          "text": [
            "\n",
            "Test set: Average loss: 0.0044, Accuracy: 14778/30000 (49.26%)\n",
            "\n",
            "EPOCH: 58\n",
            "L1= 0 ;L2= 0 ;LAMBDA= 0 epoch= 8\n"
          ],
          "name": "stdout"
        },
        {
          "output_type": "stream",
          "text": [
            "Loss=1.2901874780654907 Batch_id=136 Accuracy=64.78: 100%|██████████| 137/137 [00:37<00:00,  3.69it/s]\n",
            "  0%|          | 0/137 [00:00<?, ?it/s]"
          ],
          "name": "stderr"
        },
        {
          "output_type": "stream",
          "text": [
            "\n",
            "Test set: Average loss: 0.0043, Accuracy: 15218/30000 (50.73%)\n",
            "\n",
            "EPOCH: 59\n",
            "L1= 0 ;L2= 0 ;LAMBDA= 0 epoch= 9\n"
          ],
          "name": "stdout"
        },
        {
          "output_type": "stream",
          "text": [
            "Loss=1.4287669658660889 Batch_id=136 Accuracy=65.48: 100%|██████████| 137/137 [00:37<00:00,  3.69it/s]\n",
            "  0%|          | 0/137 [00:00<?, ?it/s]"
          ],
          "name": "stderr"
        },
        {
          "output_type": "stream",
          "text": [
            "\n",
            "Test set: Average loss: 0.0043, Accuracy: 15052/30000 (50.17%)\n",
            "\n",
            "EPOCH: 60\n",
            "L1= 0 ;L2= 0 ;LAMBDA= 0 epoch= 10\n"
          ],
          "name": "stdout"
        },
        {
          "output_type": "stream",
          "text": [
            "Loss=1.3488038778305054 Batch_id=136 Accuracy=66.10: 100%|██████████| 137/137 [00:37<00:00,  3.69it/s]\n",
            "  0%|          | 0/137 [00:00<?, ?it/s]"
          ],
          "name": "stderr"
        },
        {
          "output_type": "stream",
          "text": [
            "\n",
            "Test set: Average loss: 0.0043, Accuracy: 15054/30000 (50.18%)\n",
            "\n",
            "EPOCH: 61\n",
            "L1= 0 ;L2= 0 ;LAMBDA= 0 epoch= 11\n"
          ],
          "name": "stdout"
        },
        {
          "output_type": "stream",
          "text": [
            "Loss=1.498302936553955 Batch_id=136 Accuracy=66.51: 100%|██████████| 137/137 [00:36<00:00,  3.71it/s]\n",
            "  0%|          | 0/137 [00:00<?, ?it/s]"
          ],
          "name": "stderr"
        },
        {
          "output_type": "stream",
          "text": [
            "\n",
            "Test set: Average loss: 0.0042, Accuracy: 15223/30000 (50.74%)\n",
            "\n",
            "EPOCH: 62\n",
            "L1= 0 ;L2= 0 ;LAMBDA= 0 epoch= 12\n"
          ],
          "name": "stdout"
        },
        {
          "output_type": "stream",
          "text": [
            "Loss=1.3059778213500977 Batch_id=136 Accuracy=66.49: 100%|██████████| 137/137 [00:36<00:00,  3.72it/s]\n",
            "  0%|          | 0/137 [00:00<?, ?it/s]"
          ],
          "name": "stderr"
        },
        {
          "output_type": "stream",
          "text": [
            "\n",
            "Test set: Average loss: 0.0042, Accuracy: 15222/30000 (50.74%)\n",
            "\n",
            "EPOCH: 63\n",
            "L1= 0 ;L2= 0 ;LAMBDA= 0 epoch= 13\n"
          ],
          "name": "stdout"
        },
        {
          "output_type": "stream",
          "text": [
            "Loss=1.3668795824050903 Batch_id=136 Accuracy=67.04: 100%|██████████| 137/137 [00:36<00:00,  3.73it/s]\n",
            "  0%|          | 0/137 [00:00<?, ?it/s]"
          ],
          "name": "stderr"
        },
        {
          "output_type": "stream",
          "text": [
            "\n",
            "Test set: Average loss: 0.0043, Accuracy: 14953/30000 (49.84%)\n",
            "\n",
            "EPOCH: 64\n",
            "L1= 0 ;L2= 0 ;LAMBDA= 0 epoch= 14\n"
          ],
          "name": "stdout"
        },
        {
          "output_type": "stream",
          "text": [
            "Loss=1.3707716464996338 Batch_id=136 Accuracy=67.74: 100%|██████████| 137/137 [00:36<00:00,  3.72it/s]\n",
            "  0%|          | 0/137 [00:00<?, ?it/s]"
          ],
          "name": "stderr"
        },
        {
          "output_type": "stream",
          "text": [
            "\n",
            "Test set: Average loss: 0.0042, Accuracy: 15159/30000 (50.53%)\n",
            "\n",
            "EPOCH: 65\n",
            "L1= 0 ;L2= 0 ;LAMBDA= 0 epoch= 15\n"
          ],
          "name": "stdout"
        },
        {
          "output_type": "stream",
          "text": [
            "Loss=1.4573488235473633 Batch_id=136 Accuracy=68.06: 100%|██████████| 137/137 [00:36<00:00,  3.70it/s]\n",
            "  0%|          | 0/137 [00:00<?, ?it/s]"
          ],
          "name": "stderr"
        },
        {
          "output_type": "stream",
          "text": [
            "\n",
            "Test set: Average loss: 0.0043, Accuracy: 14831/30000 (49.44%)\n",
            "\n",
            "EPOCH: 66\n",
            "L1= 0 ;L2= 0 ;LAMBDA= 0 epoch= 16\n"
          ],
          "name": "stdout"
        },
        {
          "output_type": "stream",
          "text": [
            "Loss=1.4282662868499756 Batch_id=136 Accuracy=68.04: 100%|██████████| 137/137 [00:37<00:00,  3.69it/s]\n",
            "  0%|          | 0/137 [00:00<?, ?it/s]"
          ],
          "name": "stderr"
        },
        {
          "output_type": "stream",
          "text": [
            "\n",
            "Test set: Average loss: 0.0043, Accuracy: 15014/30000 (50.05%)\n",
            "\n",
            "EPOCH: 67\n",
            "L1= 0 ;L2= 0 ;LAMBDA= 0 epoch= 17\n"
          ],
          "name": "stdout"
        },
        {
          "output_type": "stream",
          "text": [
            "Loss=1.2724300622940063 Batch_id=136 Accuracy=68.55: 100%|██████████| 137/137 [00:37<00:00,  3.70it/s]\n",
            "  0%|          | 0/137 [00:00<?, ?it/s]"
          ],
          "name": "stderr"
        },
        {
          "output_type": "stream",
          "text": [
            "\n",
            "Test set: Average loss: 0.0042, Accuracy: 15127/30000 (50.42%)\n",
            "\n",
            "EPOCH: 68\n",
            "L1= 0 ;L2= 0 ;LAMBDA= 0 epoch= 18\n"
          ],
          "name": "stdout"
        },
        {
          "output_type": "stream",
          "text": [
            "Loss=1.2309718132019043 Batch_id=136 Accuracy=69.27: 100%|██████████| 137/137 [00:37<00:00,  3.69it/s]\n",
            "  0%|          | 0/137 [00:00<?, ?it/s]"
          ],
          "name": "stderr"
        },
        {
          "output_type": "stream",
          "text": [
            "\n",
            "Test set: Average loss: 0.0042, Accuracy: 15121/30000 (50.40%)\n",
            "\n",
            "EPOCH: 69\n",
            "L1= 0 ;L2= 0 ;LAMBDA= 0 epoch= 19\n"
          ],
          "name": "stdout"
        },
        {
          "output_type": "stream",
          "text": [
            "Loss=1.2191894054412842 Batch_id=136 Accuracy=69.77: 100%|██████████| 137/137 [00:37<00:00,  3.68it/s]\n",
            "  0%|          | 0/137 [00:00<?, ?it/s]"
          ],
          "name": "stderr"
        },
        {
          "output_type": "stream",
          "text": [
            "\n",
            "Test set: Average loss: 0.0043, Accuracy: 14964/30000 (49.88%)\n",
            "\n",
            "EPOCH: 70\n",
            "L1= 0 ;L2= 0 ;LAMBDA= 0 epoch= 20\n"
          ],
          "name": "stdout"
        },
        {
          "output_type": "stream",
          "text": [
            "Loss=1.390537977218628 Batch_id=136 Accuracy=69.99: 100%|██████████| 137/137 [00:37<00:00,  3.67it/s]\n",
            "  0%|          | 0/137 [00:00<?, ?it/s]"
          ],
          "name": "stderr"
        },
        {
          "output_type": "stream",
          "text": [
            "\n",
            "Test set: Average loss: 0.0043, Accuracy: 14806/30000 (49.35%)\n",
            "\n",
            "EPOCH: 71\n",
            "L1= 0 ;L2= 0 ;LAMBDA= 0 epoch= 21\n"
          ],
          "name": "stdout"
        },
        {
          "output_type": "stream",
          "text": [
            "Loss=1.3846769332885742 Batch_id=136 Accuracy=70.51: 100%|██████████| 137/137 [00:37<00:00,  3.68it/s]\n",
            "  0%|          | 0/137 [00:00<?, ?it/s]"
          ],
          "name": "stderr"
        },
        {
          "output_type": "stream",
          "text": [
            "\n",
            "Test set: Average loss: 0.0043, Accuracy: 14927/30000 (49.76%)\n",
            "\n",
            "EPOCH: 72\n",
            "L1= 0 ;L2= 0 ;LAMBDA= 0 epoch= 22\n"
          ],
          "name": "stdout"
        },
        {
          "output_type": "stream",
          "text": [
            "Loss=1.2236778736114502 Batch_id=136 Accuracy=70.82: 100%|██████████| 137/137 [00:37<00:00,  3.68it/s]\n",
            "  0%|          | 0/137 [00:00<?, ?it/s]"
          ],
          "name": "stderr"
        },
        {
          "output_type": "stream",
          "text": [
            "\n",
            "Test set: Average loss: 0.0041, Accuracy: 15318/30000 (51.06%)\n",
            "\n",
            "EPOCH: 73\n",
            "L1= 0 ;L2= 0 ;LAMBDA= 0 epoch= 23\n"
          ],
          "name": "stdout"
        },
        {
          "output_type": "stream",
          "text": [
            "Loss=1.191273808479309 Batch_id=136 Accuracy=70.88: 100%|██████████| 137/137 [00:37<00:00,  3.67it/s]\n",
            "  0%|          | 0/137 [00:00<?, ?it/s]"
          ],
          "name": "stderr"
        },
        {
          "output_type": "stream",
          "text": [
            "\n",
            "Test set: Average loss: 0.0043, Accuracy: 14762/30000 (49.21%)\n",
            "\n",
            "EPOCH: 74\n",
            "L1= 0 ;L2= 0 ;LAMBDA= 0 epoch= 24\n"
          ],
          "name": "stdout"
        },
        {
          "output_type": "stream",
          "text": [
            "Loss=1.2454620599746704 Batch_id=136 Accuracy=71.29: 100%|██████████| 137/137 [00:37<00:00,  3.66it/s]\n"
          ],
          "name": "stderr"
        },
        {
          "output_type": "stream",
          "text": [
            "\n",
            "Test set: Average loss: 0.0044, Accuracy: 14545/30000 (48.48%)\n",
            "\n"
          ],
          "name": "stdout"
        }
      ]
    },
    {
      "cell_type": "markdown",
      "metadata": {
        "id": "zw9bHfvaQNzv",
        "colab_type": "text"
      },
      "source": [
        "TRAINING AND ACCURACY CHANGE GRAPH"
      ]
    },
    {
      "cell_type": "code",
      "metadata": {
        "id": "lOW2sPQiQQI8",
        "colab_type": "code",
        "colab": {
          "base_uri": "https://localhost:8080/",
          "height": 421
        },
        "outputId": "c936eb91-8122-4eae-c074-69ece531f4b9"
      },
      "source": [
        "import utils.global_fun as fun\n",
        "importlib.reload(fun)\n",
        "\n",
        "importlib.reload(fun)\n",
        "from utils.global_fun import plot_accuracy_loss_graphs, draw_accuracy_graph\n",
        "print(len(imagenet_model.m_train_acc),' and ',len(imagenet_model.m_test_acc))\n",
        "draw_accuracy_graph(imagenet_model,'Accuracy Change')"
      ],
      "execution_count": 12,
      "outputs": [
        {
          "output_type": "stream",
          "text": [
            "0  and  75\n"
          ],
          "name": "stdout"
        },
        {
          "output_type": "display_data",
          "data": {
            "image/png": "[encoded data removed]",
            "text/plain": [
              "<Figure size 864x432 with 1 Axes>"
            ]
          },
          "metadata": {
            "tags": [],
            "needs_background": "light"
          }
        }
      ]
    },
    {
      "cell_type": "markdown",
      "metadata": {
        "id": "O9PX_FHz6utg",
        "colab_type": "text"
      },
      "source": [
        "LR FINDER\n",
        "\n",
        "Increases the learning rate in an exponential manner and computes the training loss for each learning rate. lr_finder.plot() plots the training loss versus logarithmic learning rate."
      ]
    },
    {
      "cell_type": "code",
      "metadata": {
        "id": "PTw9BjS06xQY",
        "colab_type": "code",
        "outputId": "4dbeec6c-7ee1-42f0-f144-de18fb3a1acd",
        "colab": {
          "base_uri": "https://localhost:8080/",
          "height": 367,
          "referenced_widgets": [
            "df7afd5a82b74b94a1199e626656a426",
            "17d1491486674c018d382acc543bd623",
            "48e90fc687f34a98ba5bf531e8126ea0",
            "7e6cd5421d4b42aaab1c21531c23eabc",
            "fda9233de04c4dc48d77e8b5f32790e9",
            "7f5d9be25f864ad7ba77003e95fa3572",
            "6a07318473ad457380653280ff0d6838",
            "6c2d75dc93274ea9b0c6e7b9778c1daf"
          ]
        }
      },
      "source": [
        "import torch.nn as nn\n",
        "import torch.optim as optim\n",
        "import torchvision.transforms as transforms\n",
        "from torch.utils.data import DataLoader\n",
        "from lr_finder import LRFinder as lrfinder\n",
        "\n",
        "model = resnet18.ResNet18(200).to(device)\n",
        "criterion = nn.CrossEntropyLoss()\n",
        "\n",
        "optimizer = optim.SGD(imagenet_model.m_model.parameters(), lr=1e-7, weight_decay=1e-2)\n",
        "lr_finder = lrfinder.LRFinder(imagenet_model.m_model, optimizer, criterion, device=\"cuda\")\n",
        "lr_finder.range_test(imagenet_model.m_train_loader, end_lr=100, num_iter=150, step_mode=\"exp\")\n",
        "lr_finder.plot(accuracy_flag = True)\n",
        "\n",
        "lr_finder.reset()\n",
        "\n",
        "#model = rc10.resnet56()\n",
        "#lr_finder = LRFinder(model,cifar_model.m_optimizer,cifar_model.m_criterion, device)\n",
        "#lr_finder.range_test(cifar_model.m_trainloader, end_lr=100, num_iter=100, step_mode=\"exp\")\n"
      ],
      "execution_count": 0,
      "outputs": [
        {
          "output_type": "display_data",
          "data": {
            "application/vnd.jupyter.widget-view+json": {
              "model_id": "df7afd5a82b74b94a1199e626656a426",
              "version_minor": 0,
              "version_major": 2
            },
            "text/plain": [
              "HBox(children=(IntProgress(value=0, max=150), HTML(value='')))"
            ]
          },
          "metadata": {
            "tags": []
          }
        },
        {
          "output_type": "stream",
          "text": [
            "\n",
            "Learning rate search finished. See the graph with {finder_name}.plot()\n",
            "Max Accuracy = 74.8046875 at LR = 3.0199517204020165e-07\n"
          ],
          "name": "stdout"
        },
        {
          "output_type": "display_data",
          "data": {
            "image/png": "[encoded data removed]",
            "text/plain": [
              "<Figure size 432x288 with 1 Axes>"
            ]
          },
          "metadata": {
            "tags": [],
            "needs_background": "light"
          }
        }
      ]
    },
    {
      "cell_type": "code",
      "metadata": {
        "id": "E4XZts7c9V5E",
        "colab_type": "code",
        "colab": {}
      },
      "source": [
        ""
      ],
      "execution_count": 0,
      "outputs": []
    }
  ]
}